{
  "nbformat": 4,
  "nbformat_minor": 0,
  "metadata": {
    "colab": {
      "provenance": []
    },
    "kernelspec": {
      "name": "python3",
      "display_name": "Python 3"
    },
    "language_info": {
      "name": "python"
    }
  },
  "cells": [
    {
      "cell_type": "code",
      "execution_count": 1,
      "metadata": {
        "id": "V77dZLJV_1qq"
      },
      "outputs": [],
      "source": [
        "import pandas as pd\n",
        "from sklearn.model_selection import train_test_split\n",
        "from sklearn.linear_model import LogisticRegression\n",
        "from sklearn import metrics\n",
        "import seaborn as sns\n"
      ]
    },
    {
      "cell_type": "code",
      "source": [
        "col_names = ['pregnant', 'glucose', 'bp', 'skin', 'insulin','bmi', 'pedigree', 'age', 'label']\n",
        "url = 'https://raw.githubusercontent.com/jbrownlee/Datasets/master/pima-indians-diabetes.data.csv'\n",
        "data = pd.read_csv(url, header=None, names=col_names)\n",
        "print(data.shape)\n",
        "print(data.head())\n"
      ],
      "metadata": {
        "colab": {
          "base_uri": "https://localhost:8080/"
        },
        "id": "N7J4fJJUALLh",
        "outputId": "228281dd-8253-4eae-f786-ee6b58111d48"
      },
      "execution_count": 2,
      "outputs": [
        {
          "output_type": "stream",
          "name": "stdout",
          "text": [
            "(768, 9)\n",
            "   pregnant  glucose  bp  skin  insulin   bmi  pedigree  age  label\n",
            "0         6      148  72    35        0  33.6     0.627   50      1\n",
            "1         1       85  66    29        0  26.6     0.351   31      0\n",
            "2         8      183  64     0        0  23.3     0.672   32      1\n",
            "3         1       89  66    23       94  28.1     0.167   21      0\n",
            "4         0      137  40    35      168  43.1     2.288   33      1\n"
          ]
        }
      ]
    },
    {
      "cell_type": "code",
      "source": [
        "data.isnull().sum()"
      ],
      "metadata": {
        "colab": {
          "base_uri": "https://localhost:8080/",
          "height": 366
        },
        "id": "28xwQdr1AuKE",
        "outputId": "c93389b2-2194-4ae7-d611-44cbef3e44dc"
      },
      "execution_count": 3,
      "outputs": [
        {
          "output_type": "execute_result",
          "data": {
            "text/plain": [
              "pregnant    0\n",
              "glucose     0\n",
              "bp          0\n",
              "skin        0\n",
              "insulin     0\n",
              "bmi         0\n",
              "pedigree    0\n",
              "age         0\n",
              "label       0\n",
              "dtype: int64"
            ],
            "text/html": [
              "<div>\n",
              "<style scoped>\n",
              "    .dataframe tbody tr th:only-of-type {\n",
              "        vertical-align: middle;\n",
              "    }\n",
              "\n",
              "    .dataframe tbody tr th {\n",
              "        vertical-align: top;\n",
              "    }\n",
              "\n",
              "    .dataframe thead th {\n",
              "        text-align: right;\n",
              "    }\n",
              "</style>\n",
              "<table border=\"1\" class=\"dataframe\">\n",
              "  <thead>\n",
              "    <tr style=\"text-align: right;\">\n",
              "      <th></th>\n",
              "      <th>0</th>\n",
              "    </tr>\n",
              "  </thead>\n",
              "  <tbody>\n",
              "    <tr>\n",
              "      <th>pregnant</th>\n",
              "      <td>0</td>\n",
              "    </tr>\n",
              "    <tr>\n",
              "      <th>glucose</th>\n",
              "      <td>0</td>\n",
              "    </tr>\n",
              "    <tr>\n",
              "      <th>bp</th>\n",
              "      <td>0</td>\n",
              "    </tr>\n",
              "    <tr>\n",
              "      <th>skin</th>\n",
              "      <td>0</td>\n",
              "    </tr>\n",
              "    <tr>\n",
              "      <th>insulin</th>\n",
              "      <td>0</td>\n",
              "    </tr>\n",
              "    <tr>\n",
              "      <th>bmi</th>\n",
              "      <td>0</td>\n",
              "    </tr>\n",
              "    <tr>\n",
              "      <th>pedigree</th>\n",
              "      <td>0</td>\n",
              "    </tr>\n",
              "    <tr>\n",
              "      <th>age</th>\n",
              "      <td>0</td>\n",
              "    </tr>\n",
              "    <tr>\n",
              "      <th>label</th>\n",
              "      <td>0</td>\n",
              "    </tr>\n",
              "  </tbody>\n",
              "</table>\n",
              "</div><br><label><b>dtype:</b> int64</label>"
            ]
          },
          "metadata": {},
          "execution_count": 3
        }
      ]
    },
    {
      "cell_type": "code",
      "source": [
        "feature_cols = ['pregnant','insulin', 'bmi',\n",
        "'age', 'glucose','bp', 'pedigree']\n",
        "x=data[feature_cols]\n",
        "y=data.label"
      ],
      "metadata": {
        "id": "gl8lf_pyBSQB"
      },
      "execution_count": 4,
      "outputs": []
    },
    {
      "cell_type": "code",
      "source": [
        "x_train, x_test, y_train, y_test = train_test_split(x, y, test_size=0.2, random_state=5)\n",
        "display(x_train.shape, y_train.shape, x_test.shape, y_test.shape)\n"
      ],
      "metadata": {
        "colab": {
          "base_uri": "https://localhost:8080/",
          "height": 86
        },
        "id": "Sr6EfVFPBXoA",
        "outputId": "85d56930-65af-480e-8225-5e689c85a226"
      },
      "execution_count": 5,
      "outputs": [
        {
          "output_type": "display_data",
          "data": {
            "text/plain": [
              "(614, 7)"
            ]
          },
          "metadata": {}
        },
        {
          "output_type": "display_data",
          "data": {
            "text/plain": [
              "(614,)"
            ]
          },
          "metadata": {}
        },
        {
          "output_type": "display_data",
          "data": {
            "text/plain": [
              "(154, 7)"
            ]
          },
          "metadata": {}
        },
        {
          "output_type": "display_data",
          "data": {
            "text/plain": [
              "(154,)"
            ]
          },
          "metadata": {}
        }
      ]
    },
    {
      "cell_type": "code",
      "source": [
        "model= LogisticRegression(solver='lbfgs', max_iter=1000)\n"
      ],
      "metadata": {
        "id": "63tTxUtfBaIN"
      },
      "execution_count": 6,
      "outputs": []
    },
    {
      "cell_type": "code",
      "source": [
        "model.fit(x_train, y_train)\n",
        "y_pred=model.predict(x_test)"
      ],
      "metadata": {
        "id": "YzR4pj2iBc4P"
      },
      "execution_count": 7,
      "outputs": []
    },
    {
      "cell_type": "code",
      "source": [
        "conf_mat=metrics.confusion_matrix(y_test, y_pred)\n",
        "print('Confusion Matrix:', conf_mat)\n",
        "Accuracy_score=metrics.accuracy_score(y_test,y_pred)\n",
        "print('Accuracy Score : ', Accuracy_score)\n",
        "print('Accuracy in Percentage :', int(Accuracy_score*100), '%')\n"
      ],
      "metadata": {
        "colab": {
          "base_uri": "https://localhost:8080/"
        },
        "id": "087oBNn_Bfg_",
        "outputId": "c1297f73-c5b4-4b0a-cc34-9698b4f76d25"
      },
      "execution_count": 8,
      "outputs": [
        {
          "output_type": "stream",
          "name": "stdout",
          "text": [
            "Confusion Matrix: [[88 12]\n",
            " [19 35]]\n",
            "Accuracy Score :  0.7987012987012987\n",
            "Accuracy in Percentage : 79 %\n"
          ]
        }
      ]
    },
    {
      "cell_type": "code",
      "source": [
        "import seaborn as sns  # or as sn, but sns is more common\n",
        "\n",
        "conf_mat = pd.crosstab(y_test, y_pred, rownames=['Actual'], colnames=['Predicted'])\n",
        "sns.heatmap(conf_mat, annot=True)"
      ],
      "metadata": {
        "colab": {
          "base_uri": "https://localhost:8080/",
          "height": 466
        },
        "id": "Ka2R_dc-BiFU",
        "outputId": "440242c5-09cb-4af4-8521-4ce26a5b8a30"
      },
      "execution_count": 9,
      "outputs": [
        {
          "output_type": "execute_result",
          "data": {
            "text/plain": [
              "<Axes: xlabel='Predicted', ylabel='Actual'>"
            ]
          },
          "metadata": {},
          "execution_count": 9
        },
        {
          "output_type": "display_data",
          "data": {
            "text/plain": [
              "<Figure size 640x480 with 2 Axes>"
            ],
            "image/png": "[encoded data removed]"
          },
          "metadata": {}
        }
      ]
    },
    {
      "cell_type": "code",
      "source": [
        "import pandas as pd\n",
        "import statsmodels.formula.api as smf\n",
        "import numpy as np\n",
        "\n",
        "# Step 1: Load the dataset\n",
        "# Replace the path below with the actual path to your .dta file\n",
        "df = pd.read_stata('https://stats.idre.ucla.edu/stat/data/binary.dta')  # UCLA dataset\n",
        "\n",
        "# Step 2: Convert 'rank' to categorical (if not already)\n",
        "df['rank'] = df['rank'].astype('category')\n",
        "\n",
        "# Step 3: Fit logistic regression model\n",
        "model = smf.logit('admit ~ gre + gpa + C(rank)', data=df).fit()\n",
        "\n",
        "# Step 4: Print the model summary\n",
        "print(\"\\n=== Logistic Regression Summary ===\\n\")\n",
        "print(model.summary())\n",
        "\n",
        "# Step 5: Calculate odds ratios and 95% confidence intervals\n",
        "params = model.params\n",
        "conf = model.conf_int()\n",
        "conf['OR'] = params\n",
        "conf.columns = ['2.5%', '97.5%', 'OR']\n",
        "\n",
        "print(\"\\n=== Odds Ratios with 95% Confidence Intervals ===\\n\")\n",
        "print(np.exp(conf))\n"
      ],
      "metadata": {
        "colab": {
          "base_uri": "https://localhost:8080/"
        },
        "id": "NpN6-p5mBnzd",
        "outputId": "57402faa-af52-4a0b-d56f-15f6e479cc4a"
      },
      "execution_count": 12,
      "outputs": [
        {
          "output_type": "stream",
          "name": "stdout",
          "text": [
            "Optimization terminated successfully.\n",
            "         Current function value: 0.573147\n",
            "         Iterations 6\n",
            "\n",
            "=== Logistic Regression Summary ===\n",
            "\n",
            "                           Logit Regression Results                           \n",
            "==============================================================================\n",
            "Dep. Variable:                  admit   No. Observations:                  400\n",
            "Model:                          Logit   Df Residuals:                      394\n",
            "Method:                           MLE   Df Model:                            5\n",
            "Date:                Tue, 15 Jul 2025   Pseudo R-squ.:                 0.08292\n",
            "Time:                        17:01:19   Log-Likelihood:                -229.26\n",
            "converged:                       True   LL-Null:                       -249.99\n",
            "Covariance Type:            nonrobust   LLR p-value:                 7.578e-08\n",
            "==================================================================================\n",
            "                     coef    std err          z      P>|z|      [0.025      0.975]\n",
            "----------------------------------------------------------------------------------\n",
            "Intercept         -3.9900      1.140     -3.500      0.000      -6.224      -1.756\n",
            "C(rank)[T.2.0]    -0.6754      0.316     -2.134      0.033      -1.296      -0.055\n",
            "C(rank)[T.3.0]    -1.3402      0.345     -3.881      0.000      -2.017      -0.663\n",
            "C(rank)[T.4.0]    -1.5515      0.418     -3.713      0.000      -2.370      -0.733\n",
            "gre                0.0023      0.001      2.070      0.038       0.000       0.004\n",
            "gpa                0.8040      0.332      2.423      0.015       0.154       1.454\n",
            "==================================================================================\n",
            "\n",
            "=== Odds Ratios with 95% Confidence Intervals ===\n",
            "\n",
            "                    2.5%     97.5%        OR\n",
            "Intercept       0.001981  0.172783  0.018500\n",
            "C(rank)[T.2.0]  0.273692  0.946358  0.508931\n",
            "C(rank)[T.3.0]  0.133055  0.515089  0.261792\n",
            "C(rank)[T.4.0]  0.093443  0.480692  0.211938\n",
            "gre             1.000120  1.004418  1.002267\n",
            "gpa             1.166122  4.281877  2.234545\n"
          ]
        }
      ]
    },
    {
      "cell_type": "code",
      "source": [
        "import numpy as np\n",
        "import pandas as pd\n",
        "from sklearn.model_selection import train_test_split\n",
        "from sklearn.linear_model import LogisticRegression\n",
        "from sklearn.metrics import accuracy_score, classification_report, confusion_matrix\n",
        "import matplotlib.pyplot as plt\n",
        "import seaborn as sns\n",
        "\n",
        "# Load the dataset\n",
        "url = \"https://raw.githubusercontent.com/jbrownlee/Datasets/master/pima-indians-diabetes.data.csv\"\n",
        "columns = ['Pregnancies', 'Glucose', 'BloodPressure', 'SkinThickness',\n",
        "           'Insulin', 'BMI', 'DiabetesPedigreeFunction', 'Age', 'Outcome']\n",
        "data = pd.read_csv(url, names=columns)\n",
        "\n",
        "# Split the dataset into features and target variable\n",
        "X = data.drop('Outcome', axis=1)\n",
        "y = data['Outcome']\n",
        "\n",
        "# Split the data into training and testing sets\n",
        "X_train, X_test, y_train, y_test = train_test_split(X, y, test_size=0.3, random_state=42)\n",
        "\n",
        "# Initialize and train the logistic regression model\n",
        "model = LogisticRegression(max_iter=1000)\n",
        "model.fit(X_train, y_train)\n",
        "\n",
        "# Make predictions\n",
        "y_pred = model.predict(X_test)\n",
        "\n",
        "# Evaluate the model\n",
        "print(f\"Accuracy: {accuracy_score(y_test, y_pred):.2f}\")\n",
        "print(\"Classification Report:\")\n",
        "print(classification_report(y_test, y_pred))\n",
        "\n",
        "# Confusion matrix\n",
        "cm = confusion_matrix(y_test, y_pred)\n",
        "print(\"Confusion Matrix:\")\n",
        "print(cm)\n",
        "\n",
        "# Plot confusion matrix heatmap\n",
        "plt.figure(figsize=(6,4))\n",
        "sns.heatmap(cm, annot=True, fmt='d', cmap='Blues',\n",
        "            xticklabels=['Predicted No Diabetes', 'Predicted Diabetes'],\n",
        "            yticklabels=['Actual No Diabetes', 'Actual Diabetes'])\n",
        "plt.ylabel('Actual')\n",
        "plt.xlabel('Predicted')\n",
        "plt.title('Confusion Matrix')\n",
        "plt.show()\n"
      ],
      "metadata": {
        "colab": {
          "base_uri": "https://localhost:8080/",
          "height": 653
        },
        "id": "s90eUB1UCNyf",
        "outputId": "ff934bda-04ec-4b43-abf8-8da5f2e4d51d"
      },
      "execution_count": 13,
      "outputs": [
        {
          "output_type": "stream",
          "name": "stdout",
          "text": [
            "Accuracy: 0.74\n",
            "Classification Report:\n",
            "              precision    recall  f1-score   support\n",
            "\n",
            "           0       0.80      0.79      0.80       151\n",
            "           1       0.62      0.62      0.62        80\n",
            "\n",
            "    accuracy                           0.74       231\n",
            "   macro avg       0.71      0.71      0.71       231\n",
            "weighted avg       0.74      0.74      0.74       231\n",
            "\n",
            "Confusion Matrix:\n",
            "[[120  31]\n",
            " [ 30  50]]\n"
          ]
        },
        {
          "output_type": "display_data",
          "data": {
            "text/plain": [
              "<Figure size 600x400 with 2 Axes>"
            ],
            "image/png": "[encoded data removed]"
          },
          "metadata": {}
        }
      ]
    },
    {
      "cell_type": "code",
      "source": [
        "import numpy as np\n",
        "import pandas as pd\n",
        "from sklearn.linear_model import LogisticRegression\n",
        "from sklearn.model_selection import train_test_split\n",
        "from sklearn.metrics import accuracy_score, classification_report, confusion_matrix\n",
        "import matplotlib.pyplot as plt\n",
        "import seaborn as sns\n",
        "\n",
        "# Step 1: Create sample data\n",
        "# Features: Age, Gender (0=F,1=M), Previous Purchase Count\n",
        "data = {\n",
        "    'Age': [25, 40, 33, 22, 35, 28, 45, 38, 50, 27],\n",
        "    'Gender': [0, 1, 1, 0, 0, 1, 1, 0, 1, 0],\n",
        "    'Prev_Purchases': [3, 0, 1, 5, 2, 1, 0, 3, 1, 4],\n",
        "    'Bought_Product': [1, 0, 0, 1, 1, 0, 0, 1, 0, 1]\n",
        "}\n",
        "\n",
        "df = pd.DataFrame(data)\n",
        "\n",
        "# Step 2: Prepare feature matrix X and target vector y\n",
        "X = df[['Age', 'Gender', 'Prev_Purchases']]\n",
        "y = df['Bought_Product']\n",
        "\n",
        "# Step 3: Stratified train-test split to keep class proportions balanced\n",
        "X_train, X_test, y_train, y_test = train_test_split(\n",
        "    X, y, test_size=0.3, random_state=42, stratify=y\n",
        ")\n",
        "\n",
        "# Step 4: Create and train logistic regression model\n",
        "model = LogisticRegression()\n",
        "model.fit(X_train, y_train)\n",
        "\n",
        "# Step 5: Evaluate on test set\n",
        "y_pred = model.predict(X_test)\n",
        "print(\"Test Accuracy:\", accuracy_score(y_test, y_pred))\n",
        "print(classification_report(y_test, y_pred))\n",
        "\n",
        "# Confusion matrix\n",
        "cm = confusion_matrix(y_test, y_pred)\n",
        "print(\"Confusion Matrix:\")\n",
        "print(cm)\n",
        "\n",
        "# Plot confusion matrix heatmap\n",
        "plt.figure(figsize=(6,4))\n",
        "sns.heatmap(cm, annot=True, fmt='d', cmap='Blues',\n",
        "            xticklabels=['Predicted No', 'Predicted Yes'],\n",
        "            yticklabels=['Actual No', 'Actual Yes'])\n",
        "plt.ylabel('Actual')\n",
        "plt.xlabel('Predicted')\n",
        "plt.title('Confusion Matrix')\n",
        "plt.show()\n",
        "\n",
        "# Step 6: Predict probability for a new customer\n",
        "# Example new customer: Age=30, Gender=Female(0), Previous Purchases=2\n",
        "new_customer = pd.DataFrame([[30, 0, 2]], columns=['Age', 'Gender', 'Prev_Purchases'])\n",
        "\n",
        "probability = model.predict_proba(new_customer)[0][1]  # Probability of buying product\n",
        "print(f\"Probability that new customer buys the product: {probability:.2f}\")\n",
        "\n",
        "# Optional: predict yes/no with 0.5 threshold\n",
        "prediction = model.predict(new_customer)[0]\n",
        "print(\"Predicted Purchase (1=Yes, 0=No):\", prediction)\n"
      ],
      "metadata": {
        "colab": {
          "base_uri": "https://localhost:8080/",
          "height": 670
        },
        "id": "w2_MCaH4CP9V",
        "outputId": "33a7e5db-51e4-4c09-92dc-a1ebf687ee3f"
      },
      "execution_count": 14,
      "outputs": [
        {
          "output_type": "stream",
          "name": "stdout",
          "text": [
            "Test Accuracy: 1.0\n",
            "              precision    recall  f1-score   support\n",
            "\n",
            "           0       1.00      1.00      1.00         2\n",
            "           1       1.00      1.00      1.00         1\n",
            "\n",
            "    accuracy                           1.00         3\n",
            "   macro avg       1.00      1.00      1.00         3\n",
            "weighted avg       1.00      1.00      1.00         3\n",
            "\n",
            "Confusion Matrix:\n",
            "[[2 0]\n",
            " [0 1]]\n"
          ]
        },
        {
          "output_type": "display_data",
          "data": {
            "text/plain": [
              "<Figure size 600x400 with 2 Axes>"
            ],
            "image/png": "[encoded data removed]"
          },
          "metadata": {}
        },
        {
          "output_type": "stream",
          "name": "stdout",
          "text": [
            "Probability that new customer buys the product: 0.69\n",
            "Predicted Purchase (1=Yes, 0=No): 1\n"
          ]
        }
      ]
    },
    {
      "cell_type": "code",
      "source": [],
      "metadata": {
        "id": "kefCf0CyCT0c"
      },
      "execution_count": null,
      "outputs": []
    }
  ]
}